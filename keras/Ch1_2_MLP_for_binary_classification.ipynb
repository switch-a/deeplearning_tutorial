{
 "cells": [
  {
   "cell_type": "code",
   "execution_count": 1,
   "metadata": {},
   "outputs": [
    {
     "name": "stderr",
     "output_type": "stream",
     "text": [
      "Using TensorFlow backend.\n"
     ]
    }
   ],
   "source": [
    "\"\"\"\n",
    "Chapter_1.2. MLP for binary classification\n",
    "参考\n",
    "https://keras.io/getting-started/sequential-model-guide/\n",
    "\"\"\"\n",
    "import numpy as np\n",
    "from keras.models import Sequential\n",
    "from keras.layers import Dense, Dropout"
   ]
  },
  {
   "cell_type": "code",
   "execution_count": 2,
   "metadata": {
    "collapsed": true
   },
   "outputs": [],
   "source": [
    "# Generate dummy data\n",
    "x_train = np.random.random((1000, 20))\n",
    "y_train = np.random.randint(2, size=(1000, 1))\n",
    "x_test = np.random.random((100, 20))\n",
    "y_test = np.random.randint(2, size=(100, 1))"
   ]
  },
  {
   "cell_type": "code",
   "execution_count": 3,
   "metadata": {},
   "outputs": [
    {
     "name": "stdout",
     "output_type": "stream",
     "text": [
      "(1000, 20)\n",
      "(1000, 1)\n",
      "(100, 20)\n",
      "(100, 1)\n"
     ]
    }
   ],
   "source": [
    "print(x_train.shape)\n",
    "print(y_train.shape)\n",
    "print(x_test.shape)\n",
    "print(y_test.shape)"
   ]
  },
  {
   "cell_type": "code",
   "execution_count": 4,
   "metadata": {},
   "outputs": [
    {
     "name": "stdout",
     "output_type": "stream",
     "text": [
      "float64\n",
      "int64\n",
      "float64\n",
      "int64\n"
     ]
    }
   ],
   "source": [
    "print(x_train.dtype)\n",
    "print(y_train.dtype)\n",
    "print(x_test.dtype)\n",
    "print(y_test.dtype)"
   ]
  },
  {
   "cell_type": "code",
   "execution_count": 5,
   "metadata": {
    "collapsed": true
   },
   "outputs": [],
   "source": [
    "model = Sequential()\n",
    "model.add(Dense(64, input_dim=20, activation='relu'))\n",
    "model.add(Dropout(0.5))\n",
    "model.add(Dense(64, activation='relu'))\n",
    "model.add(Dropout(0.5))\n",
    "model.add(Dense(1, activation='sigmoid'))"
   ]
  },
  {
   "cell_type": "code",
   "execution_count": 6,
   "metadata": {
    "collapsed": true
   },
   "outputs": [],
   "source": [
    "model.compile(loss='binary_crossentropy',\n",
    "              optimizer='rmsprop',\n",
    "              metrics=['accuracy'])"
   ]
  },
  {
   "cell_type": "code",
   "execution_count": 8,
   "metadata": {},
   "outputs": [
    {
     "name": "stdout",
     "output_type": "stream",
     "text": [
      "Epoch 1/20\n",
      "1000/1000 [==============================] - 0s - loss: 0.7104 - acc: 0.5070     \n",
      "Epoch 2/20\n",
      "1000/1000 [==============================] - 0s - loss: 0.7052 - acc: 0.5020     \n",
      "Epoch 3/20\n",
      "1000/1000 [==============================] - 0s - loss: 0.7016 - acc: 0.4860     \n",
      "Epoch 4/20\n",
      "1000/1000 [==============================] - 0s - loss: 0.6960 - acc: 0.5280     \n",
      "Epoch 5/20\n",
      "1000/1000 [==============================] - 0s - loss: 0.7006 - acc: 0.4910     \n",
      "Epoch 6/20\n",
      "1000/1000 [==============================] - 0s - loss: 0.6954 - acc: 0.4950     \n",
      "Epoch 7/20\n",
      "1000/1000 [==============================] - 0s - loss: 0.6946 - acc: 0.5240     \n",
      "Epoch 8/20\n",
      "1000/1000 [==============================] - 0s - loss: 0.6984 - acc: 0.4950     \n",
      "Epoch 9/20\n",
      "1000/1000 [==============================] - 0s - loss: 0.6901 - acc: 0.5350     \n",
      "Epoch 10/20\n",
      "1000/1000 [==============================] - 0s - loss: 0.6939 - acc: 0.5110     \n",
      "Epoch 11/20\n",
      "1000/1000 [==============================] - 0s - loss: 0.6922 - acc: 0.5190     \n",
      "Epoch 12/20\n",
      "1000/1000 [==============================] - 0s - loss: 0.6975 - acc: 0.5010     \n",
      "Epoch 13/20\n",
      "1000/1000 [==============================] - 0s - loss: 0.6880 - acc: 0.5290     \n",
      "Epoch 14/20\n",
      "1000/1000 [==============================] - 0s - loss: 0.6906 - acc: 0.5260     \n",
      "Epoch 15/20\n",
      "1000/1000 [==============================] - 0s - loss: 0.6887 - acc: 0.5530     \n",
      "Epoch 16/20\n",
      "1000/1000 [==============================] - 0s - loss: 0.6884 - acc: 0.5440     \n",
      "Epoch 17/20\n",
      "1000/1000 [==============================] - 0s - loss: 0.6912 - acc: 0.5340     \n",
      "Epoch 18/20\n",
      "1000/1000 [==============================] - 0s - loss: 0.6909 - acc: 0.5320     \n",
      "Epoch 19/20\n",
      "1000/1000 [==============================] - 0s - loss: 0.6887 - acc: 0.5270     \n",
      "Epoch 20/20\n",
      "1000/1000 [==============================] - 0s - loss: 0.6884 - acc: 0.5370     \n",
      "100/100 [==============================] - 0s\n"
     ]
    }
   ],
   "source": [
    "model.fit(x_train, y_train,\n",
    "          epochs=20,\n",
    "          batch_size=128)\n",
    "score = model.evaluate(x_test, y_test, batch_size=128)"
   ]
  },
  {
   "cell_type": "code",
   "execution_count": null,
   "metadata": {
    "collapsed": true
   },
   "outputs": [],
   "source": []
  }
 ],
 "metadata": {
  "kernelspec": {
   "display_name": "Python 3",
   "language": "python",
   "name": "python3"
  },
  "language_info": {
   "codemirror_mode": {
    "name": "ipython",
    "version": 3
   },
   "file_extension": ".py",
   "mimetype": "text/x-python",
   "name": "python",
   "nbconvert_exporter": "python",
   "pygments_lexer": "ipython3",
   "version": "3.5.2"
  }
 },
 "nbformat": 4,
 "nbformat_minor": 2
}
