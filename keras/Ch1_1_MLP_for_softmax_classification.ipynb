{
 "cells": [
  {
   "cell_type": "code",
   "execution_count": 1,
   "metadata": {},
   "outputs": [
    {
     "name": "stderr",
     "output_type": "stream",
     "text": [
      "Using TensorFlow backend.\n"
     ]
    }
   ],
   "source": [
    "\"\"\"\n",
    "Chapter_1.1. Multilayer Perceptron (MLP) for multi-class softmax classification\n",
    "参考\n",
    "https://keras.io/getting-started/sequential-model-guide/\n",
    "\"\"\"\n",
    "import keras\n",
    "from keras.models import Sequential\n",
    "from keras.layers import Dense, Dropout, Activation\n",
    "from keras.optimizers import SGD"
   ]
  },
  {
   "cell_type": "code",
   "execution_count": 2,
   "metadata": {
    "collapsed": true
   },
   "outputs": [],
   "source": [
    "# Generate dummy data\n",
    "import numpy as np\n",
    "x_train = np.random.random((1000, 20))\n",
    "y_train = keras.utils.to_categorical(np.random.randint(10, size=(1000, 1)), num_classes=10)\n",
    "x_test = np.random.random((100, 20))\n",
    "y_test = keras.utils.to_categorical(np.random.randint(10, size=(100, 1)), num_classes=10)"
   ]
  },
  {
   "cell_type": "code",
   "execution_count": 3,
   "metadata": {},
   "outputs": [
    {
     "name": "stdout",
     "output_type": "stream",
     "text": [
      "(1000, 20)\n",
      "(1000, 10)\n",
      "(100, 20)\n",
      "(100, 10)\n"
     ]
    }
   ],
   "source": [
    "print(x_train.shape)\n",
    "print(y_train.shape)\n",
    "print(x_test.shape)\n",
    "print(y_test.shape)"
   ]
  },
  {
   "cell_type": "code",
   "execution_count": 5,
   "metadata": {},
   "outputs": [
    {
     "name": "stdout",
     "output_type": "stream",
     "text": [
      "float64\n",
      "float64\n",
      "float64\n",
      "float64\n"
     ]
    }
   ],
   "source": [
    "print(x_train.dtype)\n",
    "print(y_train.dtype)\n",
    "print(x_test.dtype)\n",
    "print(y_test.dtype)"
   ]
  },
  {
   "cell_type": "code",
   "execution_count": 6,
   "metadata": {
    "collapsed": true
   },
   "outputs": [],
   "source": [
    "model = Sequential()\n",
    "# Dense(64) is a fully-connected layer with 64 hidden units.\n",
    "# in the first layer, you must specify the expected input data shape:\n",
    "# here, 20-dimensional vectors.\n",
    "model.add(Dense(64, activation='relu', input_dim=20))\n",
    "model.add(Dropout(0.5))\n",
    "model.add(Dense(64, activation='relu'))\n",
    "model.add(Dropout(0.5))\n",
    "model.add(Dense(10, activation='softmax'))"
   ]
  },
  {
   "cell_type": "code",
   "execution_count": 7,
   "metadata": {
    "collapsed": true
   },
   "outputs": [],
   "source": [
    "sgd = SGD(lr=0.01, decay=1e-6, momentum=0.9, nesterov=True)\n",
    "model.compile(loss='categorical_crossentropy',\n",
    "              optimizer=sgd,\n",
    "              metrics=['accuracy'])"
   ]
  },
  {
   "cell_type": "code",
   "execution_count": 8,
   "metadata": {},
   "outputs": [
    {
     "name": "stdout",
     "output_type": "stream",
     "text": [
      "Epoch 1/20\n",
      "1000/1000 [==============================] - 0s - loss: 2.4165 - acc: 0.0930     \n",
      "Epoch 2/20\n",
      "1000/1000 [==============================] - 0s - loss: 2.3678 - acc: 0.1150     \n",
      "Epoch 3/20\n",
      "1000/1000 [==============================] - 0s - loss: 2.3373 - acc: 0.1040     \n",
      "Epoch 4/20\n",
      "1000/1000 [==============================] - 0s - loss: 2.3170 - acc: 0.1120     \n",
      "Epoch 5/20\n",
      "1000/1000 [==============================] - 0s - loss: 2.3271 - acc: 0.1090     \n",
      "Epoch 6/20\n",
      "1000/1000 [==============================] - 0s - loss: 2.3212 - acc: 0.0940     \n",
      "Epoch 7/20\n",
      "1000/1000 [==============================] - 0s - loss: 2.3146 - acc: 0.1020     \n",
      "Epoch 8/20\n",
      "1000/1000 [==============================] - 0s - loss: 2.3131 - acc: 0.1040     \n",
      "Epoch 9/20\n",
      "1000/1000 [==============================] - 0s - loss: 2.3180 - acc: 0.0880     \n",
      "Epoch 10/20\n",
      "1000/1000 [==============================] - 0s - loss: 2.3050 - acc: 0.1060     \n",
      "Epoch 11/20\n",
      "1000/1000 [==============================] - 0s - loss: 2.3031 - acc: 0.1130     \n",
      "Epoch 12/20\n",
      "1000/1000 [==============================] - 0s - loss: 2.3049 - acc: 0.0950     \n",
      "Epoch 13/20\n",
      "1000/1000 [==============================] - 0s - loss: 2.3072 - acc: 0.1060     \n",
      "Epoch 14/20\n",
      "1000/1000 [==============================] - 0s - loss: 2.3078 - acc: 0.0990     \n",
      "Epoch 15/20\n",
      "1000/1000 [==============================] - 0s - loss: 2.2951 - acc: 0.1180     \n",
      "Epoch 16/20\n",
      "1000/1000 [==============================] - 0s - loss: 2.3066 - acc: 0.1130     \n",
      "Epoch 17/20\n",
      "1000/1000 [==============================] - 0s - loss: 2.3045 - acc: 0.0940     \n",
      "Epoch 18/20\n",
      "1000/1000 [==============================] - 0s - loss: 2.3025 - acc: 0.0970     \n",
      "Epoch 19/20\n",
      "1000/1000 [==============================] - 0s - loss: 2.2959 - acc: 0.1200     \n",
      "Epoch 20/20\n",
      "1000/1000 [==============================] - 0s - loss: 2.3034 - acc: 0.1080     \n",
      "100/100 [==============================] - 0s\n"
     ]
    }
   ],
   "source": [
    "model.fit(x_train, y_train,\n",
    "          epochs=20,\n",
    "          batch_size=128)\n",
    "score = model.evaluate(x_test, y_test, batch_size=128)"
   ]
  },
  {
   "cell_type": "code",
   "execution_count": null,
   "metadata": {
    "collapsed": true
   },
   "outputs": [],
   "source": []
  }
 ],
 "metadata": {
  "kernelspec": {
   "display_name": "Python 3",
   "language": "python",
   "name": "python3"
  },
  "language_info": {
   "codemirror_mode": {
    "name": "ipython",
    "version": 3
   },
   "file_extension": ".py",
   "mimetype": "text/x-python",
   "name": "python",
   "nbconvert_exporter": "python",
   "pygments_lexer": "ipython3",
   "version": "3.5.2"
  }
 },
 "nbformat": 4,
 "nbformat_minor": 2
}
